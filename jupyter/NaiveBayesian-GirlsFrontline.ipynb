{
 "cells": [
  {
   "cell_type": "code",
   "execution_count": 16,
   "metadata": {},
   "outputs": [],
   "source": [
    "import numpy as np\n",
    "from random import randint\n",
    "\n",
    "def loadData(file):\n",
    "    content = np.loadtxt(file, dtype=np.str, delimiter=',')[1:]\n",
    "    types = [line[2] for line in content]\n",
    "    attrs = [[float(num) for num in line[6:11]] for line in content]\n",
    "    return types, attrs\n",
    "\n",
    "def splitCases(x, y):\n",
    "    if len(x) != len(y):\n",
    "        return [], [], [], []\n",
    "    trainX, trainY, testX, testY = [], [], [], []\n",
    "    for i in range(len(x)):\n",
    "        if randint(1, 4) > 3:\n",
    "            testX.append(x[i])\n",
    "            testY.append(y[i])\n",
    "        else:\n",
    "            trainX.append(x[i])\n",
    "            trainY.append(y[i])\n",
    "    return trainX, trainY, testX, testY\n",
    "\n",
    "types, attrs = loadData('./data/gf.csv')\n",
    "TrainX, TrainY, TestX, TestY = splitCases(attrs, types)"
   ]
  },
  {
   "cell_type": "markdown",
   "metadata": {},
   "source": [
    "- 将数据按照枪种分类，并且计算每一种枪的高斯分布模型以及每一种枪的个数占比"
   ]
  },
  {
   "cell_type": "code",
   "execution_count": 46,
   "metadata": {},
   "outputs": [],
   "source": [
    "def splitByType(x, y):\n",
    "    _groups = {}\n",
    "    for _i in range(len(x)):\n",
    "        if y[_i] not in _groups:\n",
    "            _groups[y[_i]] = []\n",
    "        _groups[y[_i]].append(x[_i])\n",
    "    return _groups\n",
    "\n",
    "def gaussianFit(_attr):\n",
    "    _n, _m = len(_attr), len(_attr[0])\n",
    "    _mean = np.zeros(_m)\n",
    "    _sigma = np.mat(np.zeros((_m, _m)))\n",
    "    for _j in range(_m):\n",
    "        for _i in range(_n):\n",
    "            _mean[_j] += _attr[_i][_j]\n",
    "        _mean[_j] /= _n\n",
    "    for _i in range(_n):\n",
    "        _tmp = np.mat([_attr[_i][_j] - _mean[_j] for _j in range(_m)])\n",
    "        _sigma += np.transpose(_tmp) * _tmp\n",
    "    return _mean, _sigma\n",
    "\n",
    "Group = splitByType(TrainX, TrainY)\n",
    "names, pClass, means, sigmas = [], [], [], []\n",
    "count = 0\n",
    "for name, attr in Group.items():\n",
    "    names.append(name)\n",
    "    pClass.append(len(attr))\n",
    "    count += len(attr)\n",
    "    mean, sigma = gaussianFit(attr)\n",
    "    means.append(mean)\n",
    "    sigmas.append(sigma)\n",
    "pClass = [num / count for num in pClass]"
   ]
  },
  {
   "cell_type": "markdown",
   "metadata": {},
   "source": [
    "- 计算概率并最终得出结论的函数\n",
    "- 这里只要比较分子就可以了，因为分母是相同的；高斯的概率密度函数也可以化简"
   ]
  },
  {
   "cell_type": "code",
   "execution_count": 49,
   "metadata": {},
   "outputs": [],
   "source": [
    "def calcPossibility(x, i: int):\n",
    "    _tmp = np.mat(x - means[i])\n",
    "    _inv = np.linalg.inv(sigmas[i])\n",
    "    _exp = np.exp(-0.5 * _tmp * _inv * np.transpose(_tmp))\n",
    "    return pClass[i] * _exp / np.sqrt(np.linalg.det(sigmas[i]))\n",
    "\n",
    "def classifier(x):\n",
    "    _maxId, _maxP = 0, -1\n",
    "    for _i in range(len(names)):\n",
    "        _currP = calcPossibility(x, _i)\n",
    "        if _maxP < _currP :\n",
    "            _maxId, _maxP = _i, _currP\n",
    "    return names[_maxId]"
   ]
  },
  {
   "cell_type": "markdown",
   "metadata": {},
   "source": [
    "- 测试数据。"
   ]
  },
  {
   "cell_type": "code",
   "execution_count": 50,
   "metadata": {},
   "outputs": [
    {
     "name": "stdout",
     "output_type": "stream",
     "text": [
      "predict: HG, answer: HG\n",
      "predict: HG, answer: HG\n",
      "predict: HG, answer: HG\n",
      "predict: HG, answer: HG\n",
      "predict: HG, answer: HG\n",
      "predict: SMG, answer: SMG\n",
      "predict: SMG, answer: SMG\n",
      "predict: RF, answer: RF\n",
      "predict: RF, answer: RF\n",
      "predict: RF, answer: RF\n",
      "predict: RF, answer: RF\n",
      "predict: RF, answer: RF\n",
      "predict: RF, answer: RF\n",
      "predict: AR, answer: AR\n",
      "predict: AR, answer: AR\n",
      "predict: AR, answer: AR\n",
      "predict: AR, answer: AR\n",
      "predict: AR, answer: AR\n",
      "predict: AR, answer: AR\n",
      "predict: AR, answer: AR\n",
      "predict: MG, answer: MG\n",
      "predict: MG, answer: MG\n",
      "predict: MG, answer: MG\n",
      "predict: MG, answer: MG\n",
      "predict: MG, answer: MG\n",
      "predict: HG, answer: HG\n",
      "predict: HG, answer: HG\n",
      "predict: SMG, answer: SMG\n",
      "predict: AR, answer: AR\n",
      "predict: MG, answer: MG\n",
      "predict: MG, answer: MG\n",
      "predict: MG, answer: MG\n",
      "predict: HG, answer: HG\n",
      "predict: HG, answer: HG\n",
      "predict: SMG, answer: SMG\n",
      "predict: HG, answer: HG\n",
      "predict: RF, answer: RF\n",
      "predict: SMG, answer: SMG\n",
      "predict: SG, answer: SG\n",
      "predict: SG, answer: SG\n",
      "predict: SG, answer: SG\n",
      "predict: HG, answer: HG\n",
      "predict: MG, answer: MG\n",
      "predict: SMG, answer: SMG\n",
      "predict: AR, answer: AR\n",
      "predict: HG, answer: HG\n",
      "predict: RF, answer: RF\n",
      "predict: AR, answer: AR\n",
      "predict: SG, answer: SG\n",
      "predict: AR, answer: AR\n",
      "predict: SG, answer: SG\n",
      "predict: RF, answer: RF\n",
      "Rate of correct predictions: 1.000000\n"
     ]
    }
   ],
   "source": [
    "correct = 0\n",
    "for i in range(len(TestX)):\n",
    "    guess = classifier(TestX[i])\n",
    "    print('predict: %s, answer: %s' % (guess, TestY[i]))\n",
    "    if guess == TestY[i]:\n",
    "        correct += 1\n",
    "print('Rate of correct predictions: %f' % (correct / len(TestX)))"
   ]
  },
  {
   "cell_type": "markdown",
   "metadata": {},
   "source": [
    "- 我佛了，怎么这么高的……我可没有犯把train和test当作同一个的错误啊。。。\n",
    "- 用sklearn试试？"
   ]
  },
  {
   "cell_type": "code",
   "execution_count": 52,
   "metadata": {},
   "outputs": [
    {
     "name": "stdout",
     "output_type": "stream",
     "text": [
      "predict: HG, answer: HG\n",
      "predict: HG, answer: HG\n",
      "predict: HG, answer: HG\n",
      "predict: HG, answer: HG\n",
      "predict: HG, answer: HG\n",
      "predict: SMG, answer: SMG\n",
      "predict: SMG, answer: SMG\n",
      "predict: RF, answer: RF\n",
      "predict: RF, answer: RF\n",
      "predict: RF, answer: RF\n",
      "predict: RF, answer: RF\n",
      "predict: RF, answer: RF\n",
      "predict: RF, answer: RF\n",
      "predict: AR, answer: AR\n",
      "predict: AR, answer: AR\n",
      "predict: AR, answer: AR\n",
      "predict: AR, answer: AR\n",
      "predict: AR, answer: AR\n",
      "predict: AR, answer: AR\n",
      "predict: AR, answer: AR\n",
      "predict: MG, answer: MG\n",
      "predict: MG, answer: MG\n",
      "predict: MG, answer: MG\n",
      "predict: MG, answer: MG\n",
      "predict: MG, answer: MG\n",
      "predict: HG, answer: HG\n",
      "predict: HG, answer: HG\n",
      "predict: SMG, answer: SMG\n",
      "predict: AR, answer: AR\n",
      "predict: MG, answer: MG\n",
      "predict: MG, answer: MG\n",
      "predict: MG, answer: MG\n",
      "predict: HG, answer: HG\n",
      "predict: HG, answer: HG\n",
      "predict: SMG, answer: SMG\n",
      "predict: HG, answer: HG\n",
      "predict: RF, answer: RF\n",
      "predict: SMG, answer: SMG\n",
      "predict: SG, answer: SG\n",
      "predict: SG, answer: SG\n",
      "predict: SG, answer: SG\n",
      "predict: HG, answer: HG\n",
      "predict: MG, answer: MG\n",
      "predict: SMG, answer: SMG\n",
      "predict: AR, answer: AR\n",
      "predict: HG, answer: HG\n",
      "predict: RF, answer: RF\n",
      "predict: AR, answer: AR\n",
      "predict: SG, answer: SG\n",
      "predict: AR, answer: AR\n",
      "predict: SG, answer: SG\n",
      "predict: RF, answer: RF\n",
      "Rate of correct predictions: 1.000000\n"
     ]
    }
   ],
   "source": [
    "from sklearn.naive_bayes import GaussianNB\n",
    "\n",
    "model = GaussianNB()\n",
    "model.fit(TrainX, TrainY)\n",
    "res = model.predict(TestX)\n",
    "count = 0\n",
    "for i in range(len(res)):\n",
    "    print('predict: %s, answer: %s' % (res[i], TestY[i]))\n",
    "    if res[i] == TestY[i]:\n",
    "        count += 1\n",
    "print('Rate of correct predictions: %f' % (count / len(TestY)))"
   ]
  },
  {
   "cell_type": "markdown",
   "metadata": {},
   "source": [
    "- 好吧，确实挺好用的。。两三行搞定我半天写的东西。。"
   ]
  },
  {
   "cell_type": "code",
   "execution_count": null,
   "metadata": {},
   "outputs": [],
   "source": []
  }
 ],
 "metadata": {
  "kernelspec": {
   "display_name": "Python 3",
   "language": "python",
   "name": "python3"
  },
  "language_info": {
   "codemirror_mode": {
    "name": "ipython",
    "version": 3
   },
   "file_extension": ".py",
   "mimetype": "text/x-python",
   "name": "python",
   "nbconvert_exporter": "python",
   "pygments_lexer": "ipython3",
   "version": "3.6.8"
  }
 },
 "nbformat": 4,
 "nbformat_minor": 2
}
