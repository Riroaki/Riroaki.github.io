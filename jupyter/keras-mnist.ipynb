{
 "cells": [
  {
   "cell_type": "code",
   "execution_count": 28,
   "metadata": {},
   "outputs": [],
   "source": [
    "from tensorflow.keras import Sequential\n",
    "from tensorflow.keras.datasets import mnist\n",
    "from tensorflow.keras.layers import Dense\n",
    "from tensorflow.keras.utils import to_categorical\n",
    "\n",
    "\n",
    "# Load data\n",
    "(x_train, y_train), (x_test, y_test) = mnist.load_data()\n",
    "\n",
    "# Flatten input 28 * 28 matrix into a 784 vector\n",
    "x_train = x_train.reshape(len(x_train), 28 * 28)\n",
    "x_test= x_test.reshape(len(x_test), 28 * 28)\n",
    "\n",
    "# Make y one-hot encoding\n",
    "y_train = to_categorical(y_train, 10)\n",
    "y_test = to_categorical(y_test, 10)\n",
    "\n",
    "# Build model\n",
    "model = Sequential()\n",
    "model.add(Dense(input_dim=28*28, units=500, activation='sigmoid'))\n",
    "# softplus, softsign, relu, tanhm hard_sigmoid, linear\n",
    "model.add(Dense(units=500, activation='sigmoid'))\n",
    "model.add(Dense(units=10, activation='softmax'))"
   ]
  },
  {
   "cell_type": "code",
   "execution_count": 29,
   "metadata": {},
   "outputs": [],
   "source": [
    "# Config loss function and gradient descent method\n",
    "model.compile(loss='categorical_crossentropy',\n",
    "             optimizer='adam',\n",
    "             metrics=['accuracy'])"
   ]
  },
  {
   "cell_type": "code",
   "execution_count": 30,
   "metadata": {},
   "outputs": [
    {
     "name": "stdout",
     "output_type": "stream",
     "text": [
      "Epoch 1/20\n",
      "60000/60000 [==============================] - 2s 31us/sample - loss: 0.3879 - accuracy: 0.8899\n",
      "Epoch 2/20\n",
      "60000/60000 [==============================] - 2s 32us/sample - loss: 0.2597 - accuracy: 0.9221\n",
      "Epoch 3/20\n",
      "60000/60000 [==============================] - 2s 32us/sample - loss: 0.2377 - accuracy: 0.9263\n",
      "Epoch 4/20\n",
      "60000/60000 [==============================] - 2s 35us/sample - loss: 0.2262 - accuracy: 0.9301\n",
      "Epoch 5/20\n",
      "60000/60000 [==============================] - 2s 33us/sample - loss: 0.2107 - accuracy: 0.9346\n",
      "Epoch 6/20\n",
      "60000/60000 [==============================] - 2s 33us/sample - loss: 0.2070 - accuracy: 0.9380\n",
      "Epoch 7/20\n",
      "60000/60000 [==============================] - 2s 34us/sample - loss: 0.1981 - accuracy: 0.9383\n",
      "Epoch 8/20\n",
      "60000/60000 [==============================] - 2s 33us/sample - loss: 0.1873 - accuracy: 0.9418\n",
      "Epoch 9/20\n",
      "60000/60000 [==============================] - 2s 34us/sample - loss: 0.1740 - accuracy: 0.9456\n",
      "Epoch 10/20\n",
      "60000/60000 [==============================] - 2s 33us/sample - loss: 0.1632 - accuracy: 0.9489\n",
      "Epoch 11/20\n",
      "60000/60000 [==============================] - 2s 32us/sample - loss: 0.1576 - accuracy: 0.9508\n",
      "Epoch 12/20\n",
      "60000/60000 [==============================] - 2s 32us/sample - loss: 0.1451 - accuracy: 0.9545\n",
      "Epoch 13/20\n",
      "60000/60000 [==============================] - 2s 31us/sample - loss: 0.1420 - accuracy: 0.9551\n",
      "Epoch 14/20\n",
      "60000/60000 [==============================] - 2s 32us/sample - loss: 0.1352 - accuracy: 0.9574\n",
      "Epoch 15/20\n",
      "60000/60000 [==============================] - 2s 33us/sample - loss: 0.1336 - accuracy: 0.9575\n",
      "Epoch 16/20\n",
      "60000/60000 [==============================] - 2s 33us/sample - loss: 0.1289 - accuracy: 0.9587\n",
      "Epoch 17/20\n",
      "60000/60000 [==============================] - 2s 34us/sample - loss: 0.1273 - accuracy: 0.9600\n",
      "Epoch 18/20\n",
      "60000/60000 [==============================] - 2s 33us/sample - loss: 0.1196 - accuracy: 0.9617\n",
      "Epoch 19/20\n",
      "60000/60000 [==============================] - 2s 32us/sample - loss: 0.1137 - accuracy: 0.9638\n",
      "Epoch 20/20\n",
      "60000/60000 [==============================] - 2s 32us/sample - loss: 0.1222 - accuracy: 0.9609\n"
     ]
    },
    {
     "data": {
      "text/plain": [
       "<tensorflow.python.keras.callbacks.History at 0x13a7edbe0>"
      ]
     },
     "execution_count": 30,
     "metadata": {},
     "output_type": "execute_result"
    }
   ],
   "source": [
    "# Train model\n",
    "model.fit(x_train, y_train, batch_size=100, epochs=20)"
   ]
  },
  {
   "cell_type": "code",
   "execution_count": 31,
   "metadata": {},
   "outputs": [
    {
     "name": "stdout",
     "output_type": "stream",
     "text": [
      "10000/10000 [==============================] - 0s 40us/sample - loss: 0.1367 - accuracy: 0.9589\n",
      "Total loss on testing set: 0.13666086520701648\n",
      "Accuracy of testing set: 0.9589\n"
     ]
    }
   ],
   "source": [
    "score = model.evaluate(x_test, y_test)\n",
    "print('Total loss on testing set:', score[0])\n",
    "print('Accuracy of testing set:', score[1])"
   ]
  },
  {
   "cell_type": "code",
   "execution_count": 25,
   "metadata": {},
   "outputs": [],
   "source": [
    "result = model.predict(x_test)"
   ]
  },
  {
   "cell_type": "code",
   "execution_count": null,
   "metadata": {},
   "outputs": [],
   "source": []
  }
 ],
 "metadata": {
  "kernelspec": {
   "display_name": "Python 3",
   "language": "python",
   "name": "python3"
  },
  "language_info": {
   "codemirror_mode": {
    "name": "ipython",
    "version": 3
   },
   "file_extension": ".py",
   "mimetype": "text/x-python",
   "name": "python",
   "nbconvert_exporter": "python",
   "pygments_lexer": "ipython3",
   "version": "3.6.8"
  }
 },
 "nbformat": 4,
 "nbformat_minor": 2
}
