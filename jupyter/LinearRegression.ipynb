{
 "cells": [
  {
   "cell_type": "markdown",
   "metadata": {},
   "source": [
    "# 线性回归和梯度下降"
   ]
  },
  {
   "cell_type": "markdown",
   "metadata": {},
   "source": [
    "## 准备阶段：生成训练数据和测试数据，选取多元一次的线性关系"
   ]
  },
  {
   "cell_type": "code",
   "execution_count": 1,
   "metadata": {},
   "outputs": [
    {
     "name": "stdout",
     "output_type": "stream",
     "text": [
      "Generated 1000 cases with 10 features.\n",
      "Split data into 2 parts: 484 train data and 516 test data\n"
     ]
    }
   ],
   "source": [
    "# 生成train data和test data\n",
    "# 随机选择一些x和w，b\n",
    "from random import randint, uniform\n",
    "from numpy import random\n",
    "\n",
    "\n",
    "def genCase(n: int, m: int):\n",
    "    x = random.uniform(-10, 10, (m, n))\n",
    "    w = random.uniform(0, 10, (n, 1))\n",
    "    b = uniform(0, 10)\n",
    "    # 加入噪音\n",
    "    y = [sum(x[i1].dot(w)) + b + uniform(-0.5, 0.5) for i1 in range(len(x))]\n",
    "    print(\"Generated %d cases with %d features.\" % (m, n))\n",
    "    return x, y, w, b\n",
    "\n",
    "\n",
    "def splitCase(x, y):\n",
    "    n = len(x)\n",
    "    if len(y) != n:\n",
    "        return [], [], [], []\n",
    "    trainX, trainY, testX, testY = [], [], [], []\n",
    "    for j in range(n):\n",
    "        if randint(1, 4) > 2:\n",
    "            testX.append(x[j])\n",
    "            testY.append(y[j])\n",
    "        else:\n",
    "            trainX.append(x[j])\n",
    "            trainY.append(y[j])\n",
    "    print(\"Split data into 2 parts: %d train data and %d test data\" % (len(trainX), len(testX)))\n",
    "    return trainX, trainY, testX, testY\n",
    "\n",
    "\n",
    "X, Y, OriginW, OriginB = genCase(10, 1000)\n",
    "TrainX, TrainY, TestX, TestY = splitCase(X, Y)\n",
    "# 导出到文件\n",
    "with open('./data/train.txt', 'w') as f:\n",
    "    for i in range(len(TrainX)):\n",
    "        f.write('\\t'.join(list(map(str, TrainX[i]))) + '\\t' + str(TrainY[i]) + '\\n')\n",
    "with open('./data/test.txt', 'w') as f:\n",
    "    for i in range(len(TestX)):\n",
    "        f.write('\\t'.join(list(map(str, TestX[i]))) + '\\t' + str(TestY[i]) + '\\n')"
   ]
  },
  {
   "cell_type": "markdown",
   "metadata": {},
   "source": [
    "## 训练阶段：采用批量梯度下降方法拟合"
   ]
  },
  {
   "cell_type": "code",
   "execution_count": 21,
   "metadata": {},
   "outputs": [
    {
     "name": "stdout",
     "output_type": "stream",
     "text": [
      "Learning ratio: 0.020000\n",
      "Converges after 608 rounds of batch gradient descent.\n",
      "CPU times: user 5.72 s, sys: 23 ms, total: 5.75 s\n",
      "Wall time: 5.76 s\n"
     ]
    }
   ],
   "source": [
    "from numpy import loadtxt, ones\n",
    "\n",
    "\n",
    "def h(x, w, b):\n",
    "    return sum(x.dot(w)) + b\n",
    "\n",
    "\n",
    "def loss(x, y, w, b):\n",
    "    return sum([(h(x[i1], w, b) - y[i1]) ** 2 for i1 in range(len(x))])\n",
    "\n",
    "\n",
    "def batchGradientDescent(x, y, rate=0.1, iterBound=100000, gradBound=1e-6):\n",
    "    m = len(x)\n",
    "    if m == 0 or len(y) != m:\n",
    "        return [], -1\n",
    "    n = len(x[0])\n",
    "    w, b = ones((n, 1)), 1\n",
    "    print(\"Learning ratio: %f\" % rate)\n",
    "    for k in range(iterBound):\n",
    "        gradW = [sum([x[i][j] * (y[i] - h(x[i], w, b)) for i in range(m)]) / m for j in range(n)]\n",
    "        gradB = sum([(y[i] - h(x[i], w, b)) for i in range(m)]) / m\n",
    "        # 跳出循环的条件：梯度值较小\n",
    "        if abs(gradB) <= gradBound:\n",
    "            print(\"Converges after %d rounds of batch gradient descent.\" % k)\n",
    "            return w, b\n",
    "        for i in range(n):\n",
    "            w[i] += gradW[i] * rate\n",
    "        b += gradB * rate\n",
    "    print(\"After %d rounds of gradient descent, the loss is %f\" % (k, loss(x, y, w, b)))\n",
    "    return w, b\n",
    "\n",
    "\n",
    "def readData(file: str):\n",
    "    with open(file, 'r') as f:\n",
    "        data = loadtxt(f)\n",
    "    return [data[i1][:-1] for i1 in range(len(data))], [data[i1][-1] for i1 in range(len(data))]\n",
    "\n",
    "\n",
    "trainX, trainY = readData(\"./data/train.txt\")\n",
    "testX, testY = readData(\"./data/test.txt\")\n",
    "%time W, B = batchGradientDescent(trainX, trainY, 0.02)"
   ]
  },
  {
   "cell_type": "markdown",
   "metadata": {},
   "source": [
    "## 预测阶段：使用test数据测试模型准确率"
   ]
  },
  {
   "cell_type": "code",
   "execution_count": 22,
   "metadata": {},
   "outputs": [
    {
     "name": "stdout",
     "output_type": "stream",
     "text": [
      "Loss for test data: 47.161984\n",
      "Loss for test data with original w and b: 46.188546\n",
      "Difference for w and b: [[-0.00095575]\n",
      " [ 0.0001872 ]\n",
      " [ 0.00153668]\n",
      " [ 0.00050082]\n",
      " [-0.00034511]\n",
      " [-0.00396764]\n",
      " [-0.00295501]\n",
      " [ 0.00099687]\n",
      " [ 0.00369943]\n",
      " [ 0.00379453]] -0.003807025307413836\n"
     ]
    }
   ],
   "source": [
    "print(\"Loss for test data: %f\" % loss(testX, testY, W, B))\n",
    "print(\"Loss for test data with original w and b: %f\" % loss(testX, testY, OriginW, OriginB))\n",
    "print(\"Difference for w and b:\", OriginW - W, OriginB - B)"
   ]
  },
  {
   "cell_type": "markdown",
   "metadata": {},
   "source": [
    "- 经过梯度下降之后，达到了较好的精度。\n",
    "- 时间上存在改进空间。"
   ]
  },
  {
   "cell_type": "markdown",
   "metadata": {},
   "source": [
    "## 使用高次拟合，查看loss变化"
   ]
  },
  {
   "cell_type": "code",
   "execution_count": 28,
   "metadata": {},
   "outputs": [
    {
     "name": "stdout",
     "output_type": "stream",
     "text": [
      "Learning ratio: 0.000001\n",
      "After 999 rounds of gradient descent, the loss is 2422113.568785\n",
      "CPU times: user 20.2 s, sys: 64.6 ms, total: 20.2 s\n",
      "Wall time: 20.3 s\n",
      "Learning ratio: 0.000000\n",
      "After 999 rounds of gradient descent, the loss is 5956478.712595\n",
      "CPU times: user 29.3 s, sys: 46.8 ms, total: 29.4 s\n",
      "Wall time: 29.4 s\n",
      "Learning ratio: 0.000000\n",
      "After 999 rounds of gradient descent, the loss is 39028115.823895\n",
      "CPU times: user 38.4 s, sys: 59.8 ms, total: 38.5 s\n",
      "Wall time: 38.5 s\n",
      "Learning ratio: 0.000000\n",
      "After 999 rounds of gradient descent, the loss is 27234997.710129\n",
      "CPU times: user 48.5 s, sys: 156 ms, total: 48.7 s\n",
      "Wall time: 48.8 s\n"
     ]
    }
   ],
   "source": [
    "def generateAll(x, n):\n",
    "    if n == 1:\n",
    "        return x\n",
    "    res = ones((len(x), n * len(x[0])))\n",
    "    count = len(x[0])\n",
    "    for i1 in range(len(x)):\n",
    "        for j1 in range(n):\n",
    "            for k1 in range(count):\n",
    "                res[i1][k1 + j1 * count] = x[i1][k1] ** (j1 + 1)\n",
    "    return res\n",
    "\n",
    "\n",
    "# 拟合过程可以直接使用batchGradientDescent函数解决\n",
    "# 为了节约时间（一方面learning rate不能高，一高就不收敛；另一方面太低可能半小时都跑不出来）\n",
    "trainLoss = [loss(trainX, trainY, W, B)]\n",
    "testLoss = [loss(testX, testY, W, B)]\n",
    "for i in range(2, 6):\n",
    "    exTrainX, exTestX = generateAll(trainX, i), generateAll(testX, i)\n",
    "    %time Wi, Bi = batchGradientDescent(exTrainX, trainY, 0.0001 / pow(10, i), 1000)\n",
    "    trainLoss.append(loss(exTrainX, trainY, Wi, Bi))\n",
    "    testLoss.append(loss(exTestX, testY, Wi, Bi))"
   ]
  },
  {
   "cell_type": "code",
   "execution_count": 33,
   "metadata": {},
   "outputs": [
    {
     "data": {
      "image/png": "[encoded data removed]",
      "text/plain": [
       "<Figure size 432x288 with 1 Axes>"
      ]
     },
     "metadata": {
      "needs_background": "light"
     },
     "output_type": "display_data"
    }
   ],
   "source": [
    "import matplotlib.pyplot as plt\n",
    "from numpy import arange\n",
    "\n",
    "x_axis = arange(len(trainLoss))\n",
    "plt.axis('on')\n",
    "plt.plot(x_axis, trainLoss, label='train')\n",
    "plt.plot(x_axis, testLoss, label='test')\n",
    "plt.legend()\n",
    "plt.show()"
   ]
  },
  {
   "cell_type": "markdown",
   "metadata": {},
   "source": [
    "- 为了节约运行时间，限制运行次数在1000次以内；暂时看不出过拟合现象。\n",
    "- 但是在维度上升的时候，train的loss明显小于test的loss。"
   ]
  },
  {
   "cell_type": "code",
   "execution_count": null,
   "metadata": {},
   "outputs": [],
   "source": []
  }
 ],
 "metadata": {
  "kernelspec": {
   "display_name": "Python 3",
   "language": "python",
   "name": "python3"
  },
  "language_info": {
   "codemirror_mode": {
    "name": "ipython",
    "version": 3
   },
   "file_extension": ".py",
   "mimetype": "text/x-python",
   "name": "python",
   "nbconvert_exporter": "python",
   "pygments_lexer": "ipython3",
   "version": "3.6.8"
  }
 },
 "nbformat": 4,
 "nbformat_minor": 2
}
