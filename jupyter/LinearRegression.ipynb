{
 "cells": [
  {
   "cell_type": "markdown",
   "metadata": {},
   "source": [
    "# 线性回归和梯度下降"
   ]
  },
  {
   "cell_type": "markdown",
   "metadata": {},
   "source": [
    "## 准备阶段：生成训练数据和测试数据，选取多元一次的线性关系"
   ]
  },
  {
   "cell_type": "code",
   "execution_count": 13,
   "metadata": {},
   "outputs": [
    {
     "name": "stdout",
     "output_type": "stream",
     "text": [
      "Generated 1000 cases with 10 features.\n",
      "Split data into 2 parts: 515 train data and 485 test data\n"
     ]
    }
   ],
   "source": [
    "# 生成train data和test data\n",
    "# 随机选择一些x和w，b\n",
    "from random import randint, uniform\n",
    "from numpy import random\n",
    "\n",
    "\n",
    "def genCase(n: int, m: int):\n",
    "    x = random.uniform(-10, 10, (m, n))\n",
    "    w = random.uniform(0, 10, (n, 1))\n",
    "    b = uniform(0, 10)\n",
    "    # 加入噪音\n",
    "    y = [sum(x[i1].dot(w)) + b + uniform(-0.5, 0.5) for i1 in range(len(x))]\n",
    "    print(\"Generated %d cases with %d features.\" % (m, n))\n",
    "    return x, y, w, b\n",
    "\n",
    "\n",
    "def splitCase(x, y):\n",
    "    n = len(x)\n",
    "    if len(y) != n:\n",
    "        return [], [], [], []\n",
    "    trainX, trainY, testX, testY = [], [], [], []\n",
    "    for j1 in range(n):\n",
    "        if randint(1, 4) > 2:\n",
    "            testX.append(x[j1])\n",
    "            testY.append(y[j1])\n",
    "        else:\n",
    "            trainX.append(x[j1])\n",
    "            trainY.append(y[j1])\n",
    "    print(\"Split data into 2 parts: %d train data and %d test data\" % (len(trainX), len(testX)))\n",
    "    return trainX, trainY, testX, testY\n",
    "\n",
    "\n",
    "X, Y, OriginW, OriginB = genCase(10, 1000)\n",
    "TrainX, TrainY, TestX, TestY = splitCase(X, Y)\n",
    "# 导出到文件\n",
    "with open('./data/train.txt', 'w') as f:\n",
    "    for i in range(len(TrainX)):\n",
    "        f.write('\\t'.join(list(map(str, TrainX[i]))) + '\\t' + str(TrainY[i]) + '\\n')\n",
    "with open('./data/test.txt', 'w') as f:\n",
    "    for i in range(len(TestX)):\n",
    "        f.write('\\t'.join(list(map(str, TestX[i]))) + '\\t' + str(TestY[i]) + '\\n')"
   ]
  },
  {
   "cell_type": "markdown",
   "metadata": {},
   "source": [
    "## 训练阶段：采用批量梯度下降方法拟合"
   ]
  },
  {
   "cell_type": "code",
   "execution_count": 14,
   "metadata": {},
   "outputs": [
    {
     "name": "stdout",
     "output_type": "stream",
     "text": [
      "Learning ratio: 0.020000\n",
      "Converges after 696 rounds of batch gradient descent.\n",
      "CPU times: user 7.05 s, sys: 22 ms, total: 7.08 s\n",
      "Wall time: 7.09 s\n"
     ]
    }
   ],
   "source": [
    "from numpy import loadtxt, ones\n",
    "\n",
    "\n",
    "def h(x, w, b):\n",
    "    return sum(x.dot(w)) + b\n",
    "\n",
    "\n",
    "def loss(x, y, w, b):\n",
    "    return sum([(h(x[i1], w, b) - y[i1]) ** 2 for i1 in range(len(x))])\n",
    "\n",
    "\n",
    "def batchGradientDescent(x, y, rate=0.1, iterBound=100000, gradBound=1e-6):\n",
    "    m = len(x)\n",
    "    if m == 0 or len(y) != m:\n",
    "        return [], -1\n",
    "    n = len(x[0])\n",
    "    w, b = ones((n, 1)), 1\n",
    "    print(\"Learning ratio: %f\" % rate)\n",
    "    for k in range(iterBound):\n",
    "        gradW = [sum([x[i][j] * (y[i] - h(x[i], w, b)) for i in range(m)]) / m for j in range(n)]\n",
    "        gradB = sum([(y[i] - h(x[i], w, b)) for i in range(m)]) / m\n",
    "        # 跳出循环的条件：梯度值较小\n",
    "        if abs(gradB) <= gradBound:\n",
    "            print(\"Converges after %d rounds of batch gradient descent.\" % k)\n",
    "            return w, b\n",
    "        for i in range(n):\n",
    "            w[i] += gradW[i] * rate\n",
    "        b += gradB * rate\n",
    "    print(\"After %d rounds of gradient descent, the loss is %f\" % (k, loss(x, y, w, b)))\n",
    "    return w, b\n",
    "\n",
    "\n",
    "def readData(file: str):\n",
    "    with open(file, 'r') as f:\n",
    "        data = loadtxt(f)\n",
    "    return [data[i1][:-1] for i1 in range(len(data))], [data[i1][-1] for i1 in range(len(data))]\n",
    "\n",
    "\n",
    "trainX, trainY = readData(\"./data/train.txt\")\n",
    "testX, testY = readData(\"./data/test.txt\")\n",
    "%time W, B = batchGradientDescent(trainX, trainY, 0.02)"
   ]
  },
  {
   "cell_type": "markdown",
   "metadata": {},
   "source": [
    "## 预测阶段：使用test数据测试模型准确率"
   ]
  },
  {
   "cell_type": "code",
   "execution_count": 15,
   "metadata": {},
   "outputs": [
    {
     "name": "stdout",
     "output_type": "stream",
     "text": [
      "Loss for test data: 43.180648\n",
      "Loss for test data with original w and b: 41.600574\n",
      "Difference for w and b: [[ 0.00109262]\n",
      " [-0.00581631]\n",
      " [ 0.00122251]\n",
      " [-0.00210383]\n",
      " [-0.00198792]\n",
      " [-0.00037012]\n",
      " [ 0.00243138]\n",
      " [-0.004199  ]\n",
      " [-0.00064644]\n",
      " [ 0.00013948]] -0.009272296463247759\n"
     ]
    }
   ],
   "source": [
    "print(\"Loss for test data: %f\" % loss(testX, testY, W, B))\n",
    "print(\"Loss for test data with original w and b: %f\" % loss(testX, testY, OriginW, OriginB))\n",
    "print(\"Difference for w and b:\", OriginW - W, OriginB - B)"
   ]
  },
  {
   "cell_type": "markdown",
   "metadata": {},
   "source": [
    "- 经过梯度下降之后，达到了较好的精度。\n",
    "- 时间上存在改进空间。"
   ]
  },
  {
   "cell_type": "markdown",
   "metadata": {},
   "source": [
    "## 自适应learning rate：Adagrad"
   ]
  },
  {
   "cell_type": "code",
   "execution_count": 22,
   "metadata": {},
   "outputs": [
    {
     "name": "stdout",
     "output_type": "stream",
     "text": [
      "Converges after 251 rounds of batch gradient descent.\n",
      "CPU times: user 2.55 s, sys: 9.66 ms, total: 2.56 s\n",
      "Wall time: 2.57 s\n",
      "Loss for test data: 43.177537\n",
      "Loss for test data with original w and b: 41.600574\n",
      "Difference for w and b: [[ 0.00108563]\n",
      " [-0.00580816]\n",
      " [ 0.00122102]\n",
      " [-0.002008  ]\n",
      " [-0.00198998]\n",
      " [-0.0003545 ]\n",
      " [ 0.00242942]\n",
      " [-0.00419475]\n",
      " [-0.00064363]\n",
      " [ 0.00016461]] -0.009286649191009438\n"
     ]
    }
   ],
   "source": [
    "from math import sqrt\n",
    "\n",
    "def improvedBGD(x, y, iterBound=10000, gradBound=1e-6):\n",
    "    m = len(x)\n",
    "    if m == 0 or len(y) != m:\n",
    "        return [], -1\n",
    "    n = len(x[0])\n",
    "    w, b = ones((n, 1)), 1\n",
    "    rateW, rateB = [0 for _ in range(n)], 0\n",
    "    for k1 in range(iterBound):\n",
    "        gradW = [sum([x[i][j] * (y[i] - h(x[i], w, b)) for i in range(m)]) / m for j in range(n)]\n",
    "        gradB = sum([(y[i] - h(x[i], w, b)) for i in range(m)]) / m\n",
    "        # 跳出循环的条件：梯度值较小\n",
    "        if abs(gradB) <= gradBound:\n",
    "            print(\"Converges after %d rounds of batch gradient descent.\" % k1)\n",
    "            return w, b\n",
    "        for i in range(n):\n",
    "            rateW[i] += gradW[i] ** 2\n",
    "            w[i] += gradW[i] / sqrt(rateW[i])\n",
    "        rateB += gradB ** 2\n",
    "        b += gradB / sqrt(rateB)\n",
    "    print(\"After %d rounds of gradient descent, the loss is %f\" % (k1, loss(x, y, w, b)))\n",
    "    return w, b\n",
    "\n",
    "%time W, B = improvedBGD(trainX, trainY)\n",
    "print(\"Loss for test data: %f\" % loss(testX, testY, W, B))\n",
    "print(\"Loss for test data with original w and b: %f\" % loss(testX, testY, OriginW, OriginB))\n",
    "print(\"Difference for w and b:\", OriginW - W, OriginB - B)"
   ]
  },
  {
   "cell_type": "markdown",
   "metadata": {},
   "source": [
    "- 可以看到，时间和精度上都更合理，自动调整学习率能够避免不收敛或者收敛过慢的问题。"
   ]
  },
  {
   "cell_type": "markdown",
   "metadata": {},
   "source": [
    "## 使用高次拟合，查看loss变化"
   ]
  },
  {
   "cell_type": "code",
   "execution_count": 23,
   "metadata": {},
   "outputs": [
    {
     "name": "stdout",
     "output_type": "stream",
     "text": [
      "After 9999 rounds of gradient descent, the loss is 36.904122\n",
      "CPU times: user 3min 50s, sys: 1.34 s, total: 3min 51s\n",
      "Wall time: 3min 52s\n",
      "After 9999 rounds of gradient descent, the loss is 35.874497\n",
      "CPU times: user 5min 39s, sys: 1.56 s, total: 5min 40s\n",
      "Wall time: 5min 42s\n",
      "After 9999 rounds of gradient descent, the loss is 261.607271\n",
      "CPU times: user 7min 28s, sys: 2.38 s, total: 7min 31s\n",
      "Wall time: 7min 33s\n",
      "After 9999 rounds of gradient descent, the loss is 181030.524181\n",
      "CPU times: user 9min 20s, sys: 3.25 s, total: 9min 24s\n",
      "Wall time: 9min 27s\n"
     ]
    }
   ],
   "source": [
    "def generateAll(x, n):\n",
    "    if n == 1:\n",
    "        return x\n",
    "    res = ones((len(x), n * len(x[0])))\n",
    "    count = len(x[0])\n",
    "    for i1 in range(len(x)):\n",
    "        for j1 in range(n):\n",
    "            for k1 in range(count):\n",
    "                res[i1][k1 + j1 * count] = x[i1][k1] ** (j1 + 1)\n",
    "    return res\n",
    "\n",
    "\n",
    "# 拟合过程可以直接使用batchGradientDescent函数解决\n",
    "# 为了节约时间（一方面learning rate不能高，一高就不收敛；另一方面太低可能半小时都跑不出来）\n",
    "trainLoss = [loss(trainX, trainY, W, B)]\n",
    "testLoss = [loss(testX, testY, W, B)]\n",
    "for i in range(2, 6):\n",
    "    exTrainX, exTestX = generateAll(trainX, i), generateAll(testX, i)\n",
    "    %time Wi, Bi = improvedBGD(exTrainX, trainY)\n",
    "    trainLoss.append(loss(exTrainX, trainY, Wi, Bi))\n",
    "    testLoss.append(loss(exTestX, testY, Wi, Bi))"
   ]
  },
  {
   "cell_type": "code",
   "execution_count": 25,
   "metadata": {},
   "outputs": [
    {
     "data": {
      "image/png": "[encoded data removed]",
      "text/plain": [
       "<Figure size 432x288 with 1 Axes>"
      ]
     },
     "metadata": {
      "needs_background": "light"
     },
     "output_type": "display_data"
    }
   ],
   "source": [
    "import matplotlib.pyplot as plt\n",
    "from numpy import arange\n",
    "\n",
    "x_axis = arange(len(trainLoss))\n",
    "plt.axis('on')\n",
    "plt.plot(x_axis, trainLoss, label='train')\n",
    "plt.plot(x_axis, testLoss, label='test')\n",
    "plt.legend()\n",
    "plt.show()"
   ]
  },
  {
   "cell_type": "markdown",
   "metadata": {},
   "source": [
    "- 出现了明显的overfitting现象"
   ]
  },
  {
   "cell_type": "code",
   "execution_count": 27,
   "metadata": {},
   "outputs": [
    {
     "name": "stdout",
     "output_type": "stream",
     "text": [
      "[43.17753677246426, 46.221044463400624, 47.5150256435928, 295.13051190429354, 216220.90071215943]\n"
     ]
    }
   ],
   "source": [
    "print(testLoss)"
   ]
  },
  {
   "cell_type": "code",
   "execution_count": null,
   "metadata": {},
   "outputs": [],
   "source": []
  }
 ],
 "metadata": {
  "kernelspec": {
   "display_name": "Python 3",
   "language": "python",
   "name": "python3"
  },
  "language_info": {
   "codemirror_mode": {
    "name": "ipython",
    "version": 3
   },
   "file_extension": ".py",
   "mimetype": "text/x-python",
   "name": "python",
   "nbconvert_exporter": "python",
   "pygments_lexer": "ipython3",
   "version": "3.6.8"
  }
 },
 "nbformat": 4,
 "nbformat_minor": 2
}
